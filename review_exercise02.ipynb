{
 "cells": [
  {
   "cell_type": "markdown",
   "metadata": {},
   "source": [
    "**문제 1**\n",
    "\n",
    ">정육면체의 길이를 입력하면 면적과 부피를 알려주는 프로그램을 개발하여라."
   ]
  },
  {
   "cell_type": "code",
   "execution_count": 1,
   "metadata": {},
   "outputs": [
    {
     "name": "stdout",
     "output_type": "stream",
     "text": [
      "정육면체 한 변의 길이를 입력하세요 : 7\n",
      "정육면체의 면의 총합은 294 입니다.\n",
      "정육면체의 부피는 343 입니다.\n"
     ]
    }
   ],
   "source": [
    "l = int(input(\"정육면체 한 변의 길이를 입력하세요 : \"))\n",
    "s = lambda l : l**2*6       #순서대로 l의 제곱에 6을 곱한다.\n",
    "v = lambda v : l**3         #3제곱\n",
    " \n",
    "print(\"정육면체의 면의 총합은\", s(l), \"입니다.\")\n",
    "print(\"정육면체의 부피는\", v(l), \"입니다.\")"
   ]
  },
  {
   "cell_type": "markdown",
   "metadata": {},
   "source": [
    "**문제2**\n",
    "\n",
    ">☎ 핸드폰 번호를 랜덤으로 생성하는 프로그램을 개발하여라. \n",
    "\n",
    ">풀이방향 <br>\n",
    "핸드폰 번호를 띄어씌기로 표현하려함 <br> >> 000-0000-0000 처럼 세덩어리로 나누고 앞의 세자리는 010으로 고정, 나머지는 난수를 사용."
   ]
  },
  {
   "cell_type": "code",
   "execution_count": 6,
   "metadata": {},
   "outputs": [
    {
     "name": "stdout",
     "output_type": "stream",
     "text": [
      "010 7823 4163\n"
     ]
    }
   ],
   "source": [
    "import random\n",
    "\n",
    "def cell_number1():\n",
    "   \n",
    "    num = \"0123456789\"\n",
    "    \n",
    "    cell_num1= \"\"\n",
    "    \n",
    "    for i in range(4) : #0~5까지 6개의 숫자 반환, 6번으로 사용되는 반복문\n",
    "        picked_n = random.randrange(10)\n",
    "        cell_num1 = cell_num1 + num[picked_n] # password += alphabet[index] 같음\n",
    "    \n",
    "    return cell_num1\n",
    "\n",
    "def cell_number2():\n",
    "   \n",
    "    num = \"0123456789\"\n",
    "    \n",
    "    cell_num2= \"\"\n",
    "    \n",
    "    for i in range(4) : #0~5까지 6개의 숫자 반환, 6번으로 사용되는 반복문\n",
    "        picked_n = random.randrange(10)\n",
    "        cell_num2 = cell_num2 + num[picked_n] # password += alphabet[index] 같음\n",
    "    \n",
    "    return cell_num2\n",
    "\n",
    "print(\"010\", cell_number1(), cell_number2())\n"
   ]
  },
  {
   "cell_type": "markdown",
   "metadata": {},
   "source": [
    "**문제3**\n",
    "\n",
    "🎲 브루마블 게임을 하려고 한다. 가상으로 주사위 두개를 던졌을 때 이동해야 할 칸의 수를 계산하는 프로그램을 만드시오. (단, 난수를 사용)"
   ]
  },
  {
   "cell_type": "code",
   "execution_count": 8,
   "metadata": {},
   "outputs": [
    {
     "name": "stdout",
     "output_type": "stream",
     "text": [
      "앞으로 9칸 이동하세요\n"
     ]
    }
   ],
   "source": [
    "import random\n",
    " \n",
    "ND1 = random.randrange(1,6)\n",
    "ND2 = random.randrange(1,6)\n",
    " \n",
    "TB = ND1 + ND2\n",
    " \n",
    "print(\"앞으로 {}칸 이동하세요\".format(TB))\n"
   ]
  },
  {
   "cell_type": "code",
   "execution_count": null,
   "metadata": {},
   "outputs": [],
   "source": []
  }
 ],
 "metadata": {
  "kernelspec": {
   "display_name": "Python 3",
   "language": "python",
   "name": "python3"
  },
  "language_info": {
   "codemirror_mode": {
    "name": "ipython",
    "version": 3
   },
   "file_extension": ".py",
   "mimetype": "text/x-python",
   "name": "python",
   "nbconvert_exporter": "python",
   "pygments_lexer": "ipython3",
   "version": "3.8.5"
  }
 },
 "nbformat": 4,
 "nbformat_minor": 4
}
